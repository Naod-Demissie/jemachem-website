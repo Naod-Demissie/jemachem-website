{
 "cells": [
  {
   "cell_type": "code",
   "execution_count": 1,
   "metadata": {},
   "outputs": [
    {
     "name": "stdout",
     "output_type": "stream",
     "text": [
      "Collecting tinify\n",
      "  Downloading tinify-1.7.0-py2.py3-none-any.whl.metadata (1.5 kB)\n",
      "Requirement already satisfied: requests<3.0.0,>=2.7.0 in /home/naod/miniconda3/lib/python3.12/site-packages (from tinify) (2.31.0)\n",
      "Requirement already satisfied: charset-normalizer<4,>=2 in /home/naod/miniconda3/lib/python3.12/site-packages (from requests<3.0.0,>=2.7.0->tinify) (3.3.2)\n",
      "Requirement already satisfied: idna<4,>=2.5 in /home/naod/miniconda3/lib/python3.12/site-packages (from requests<3.0.0,>=2.7.0->tinify) (3.7)\n",
      "Requirement already satisfied: urllib3<3,>=1.21.1 in /home/naod/miniconda3/lib/python3.12/site-packages (from requests<3.0.0,>=2.7.0->tinify) (2.4.0)\n",
      "Requirement already satisfied: certifi>=2017.4.17 in /home/naod/miniconda3/lib/python3.12/site-packages (from requests<3.0.0,>=2.7.0->tinify) (2025.4.26)\n",
      "Downloading tinify-1.7.0-py2.py3-none-any.whl (121 kB)\n",
      "Installing collected packages: tinify\n",
      "Successfully installed tinify-1.7.0\n"
     ]
    }
   ],
   "source": [
    "!pip install --upgrade tinify"
   ]
  },
  {
   "cell_type": "code",
   "execution_count": 1,
   "metadata": {},
   "outputs": [],
   "source": [
    "import tinify\n",
    "\n",
    "tinify.key = \"0sBtsstp3drNbGWbcSqv1h5xpWpSZM33\""
   ]
  },
  {
   "cell_type": "code",
   "execution_count": 2,
   "id": "fd595871",
   "metadata": {},
   "outputs": [],
   "source": [
    "from glob import glob\n",
    "from os.path import basename, splitext"
   ]
  },
  {
   "cell_type": "code",
   "execution_count": 9,
   "id": "9767ccf9",
   "metadata": {},
   "outputs": [],
   "source": [
    "src_path = glob(\n",
    "    \"/home/naod/Projects/Website Projects/jemachem-website/public/testimonials/*\"\n",
    ")\n",
    "dest_path = \"/home/naod/Projects/Website Projects/jemachem-website/public/testimonials/\""
   ]
  },
  {
   "cell_type": "code",
   "execution_count": 7,
   "id": "da5a95c7",
   "metadata": {},
   "outputs": [
    {
     "data": {
      "text/plain": [
       "10"
      ]
     },
     "execution_count": 7,
     "metadata": {},
     "output_type": "execute_result"
    }
   ],
   "source": [
    "len(src_path)"
   ]
  },
  {
   "cell_type": "code",
   "execution_count": 10,
   "id": "ea214d34",
   "metadata": {},
   "outputs": [],
   "source": [
    "for path in src_path:\n",
    "    filename = splitext(basename(path))[0] + \".webp\"\n",
    "    dest_file = dest_path + filename\n",
    "    source = tinify.from_file(path)\n",
    "    source.to_file(dest_file)"
   ]
  },
  {
   "cell_type": "code",
   "execution_count": null,
   "id": "5281239e",
   "metadata": {},
   "outputs": [
    {
     "data": {
      "text/plain": [
       "(107, 107)"
      ]
     },
     "execution_count": 18,
     "metadata": {},
     "output_type": "execute_result"
    }
   ],
   "source": [
    "src_path_basenames = [\n",
    "    splitext(basename(f))[0]\n",
    "    for f in glob(\n",
    "        \"/home/naod/Projects/Website Projects/jemachem-website/public/product-category/*\"\n",
    "    )\n",
    "]\n",
    "dst_path_basenames = [\n",
    "    splitext(basename(f))[0]\n",
    "    for f in glob(\n",
    "        \"/home/naod/Projects/Website Projects/jemachem-website/public/product-category/*\"\n",
    "    )\n",
    "]\n",
    "len(src_path_basenames), len(dst_path_basenames)"
   ]
  },
  {
   "cell_type": "code",
   "execution_count": 11,
   "id": "eb9fe5f6",
   "metadata": {},
   "outputs": [],
   "source": [
    "for name in src_path_basenames:\n",
    "    if name not in dst_path_basenames:\n",
    "        print(name)"
   ]
  },
  {
   "cell_type": "code",
   "execution_count": 19,
   "id": "9e866b40",
   "metadata": {},
   "outputs": [
    {
     "name": "stdout",
     "output_type": "stream",
     "text": [
      "[]\n"
     ]
    }
   ],
   "source": [
    "from collections import Counter\n",
    "\n",
    "# Find duplicate base names within src_path_basenames\n",
    "\n",
    "src_counts = Counter(src_path_basenames)\n",
    "duplicates_in_src = [name for name, count in src_counts.items() if count > 1]\n",
    "print(duplicates_in_src)"
   ]
  },
  {
   "cell_type": "code",
   "execution_count": null,
   "id": "98a09f3d",
   "metadata": {},
   "outputs": [],
   "source": []
  },
  {
   "cell_type": "code",
   "execution_count": null,
   "id": "ffde5096",
   "metadata": {},
   "outputs": [
    {
     "name": "stdout",
     "output_type": "stream",
     "text": [
      "set()\n"
     ]
    }
   ],
   "source": [
    "from os.path import basename, splitext\n",
    "from glob import glob\n",
    "\n",
    "# Get basenames without extension for products\n",
    "product_files = glob(\n",
    "    \"/home/naod/Projects/Website Projects/jemachem-website/public/teams/*.jpg\"\n",
    ")\n",
    "product_names = {splitext(basename(f))[0] for f in product_files}\n",
    "\n",
    "# Get basenames without extension for compressed\n",
    "compressed_files = glob(\n",
    "    \"/home/naod/Projects/Website Projects/jemachem-website/public/teams/*\"\n",
    ")\n",
    "compressed_names = {splitext(basename(f))[0] for f in compressed_files}\n",
    "\n",
    "\n",
    "# Find product names not in compressed\n",
    "missing_in_compressed = product_names - compressed_names\n",
    "print(missing_in_compressed)"
   ]
  },
  {
   "cell_type": "code",
   "execution_count": 6,
   "id": "96d5117d",
   "metadata": {},
   "outputs": [],
   "source": [
    "source = tinify.from_file(\n",
    "    \"/home/naod/Projects/Website Projects/jemachem-website/public/agro-field.jpg\"\n",
    ")\n",
    "source.to_file(\n",
    "    \"/home/naod/Projects/Website Projects/jemachem-website/public/agro-field.webp\"\n",
    ")"
   ]
  },
  {
   "cell_type": "code",
   "execution_count": null,
   "id": "87d50aa5",
   "metadata": {},
   "outputs": [],
   "source": []
  }
 ],
 "metadata": {
  "kernelspec": {
   "display_name": "base",
   "language": "python",
   "name": "python3"
  },
  "language_info": {
   "codemirror_mode": {
    "name": "ipython",
    "version": 3
   },
   "file_extension": ".py",
   "mimetype": "text/x-python",
   "name": "python",
   "nbconvert_exporter": "python",
   "pygments_lexer": "ipython3",
   "version": "3.12.8"
  }
 },
 "nbformat": 4,
 "nbformat_minor": 5
}
